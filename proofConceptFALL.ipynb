{
 "cells": [
  {
   "cell_type": "code",
   "execution_count": 2,
   "metadata": {},
   "outputs": [],
   "source": [
    "import pandas as pd\n",
    "import numpy as np\n",
    "import sklearn as sk\n",
    "\n",
    "from sklearn.ensemble import RandomForestClassifier\n",
    "from sklearn.model_selection import TimeSeriesSplit\n",
    "from sklearn.preprocessing import StandardScaler\n",
    "from sklearn.svm import SVC\n",
    "from sklearn.metrics import accuracy_score\n",
    "from sklearn.metrics import confusion_matrix"
   ]
  },
  {
   "attachments": {},
   "cell_type": "markdown",
   "metadata": {},
   "source": [
    "Definition der Dataframes:"
   ]
  },
  {
   "cell_type": "code",
   "execution_count": 3,
   "metadata": {},
   "outputs": [],
   "source": [
    "df_walk = pd.read_json(\"normal_walk.json\")\n",
    "\n",
    "df_fall = pd.read_json(\"fall.json\")\n",
    "\n",
    "df_testFall = pd.read_json(\"test_fall.json\")"
   ]
  },
  {
   "cell_type": "code",
   "execution_count": 4,
   "metadata": {},
   "outputs": [
    {
     "data": {
      "text/html": [
       "<div>\n",
       "<style scoped>\n",
       "    .dataframe tbody tr th:only-of-type {\n",
       "        vertical-align: middle;\n",
       "    }\n",
       "\n",
       "    .dataframe tbody tr th {\n",
       "        vertical-align: top;\n",
       "    }\n",
       "\n",
       "    .dataframe thead th {\n",
       "        text-align: right;\n",
       "    }\n",
       "</style>\n",
       "<table border=\"1\" class=\"dataframe\">\n",
       "  <thead>\n",
       "    <tr style=\"text-align: right;\">\n",
       "      <th></th>\n",
       "      <th>time</th>\n",
       "      <th>seconds_elapsed</th>\n",
       "      <th>z</th>\n",
       "      <th>y</th>\n",
       "      <th>x</th>\n",
       "      <th>version</th>\n",
       "      <th>appVersion</th>\n",
       "      <th>yaw</th>\n",
       "      <th>qx</th>\n",
       "      <th>qz</th>\n",
       "      <th>roll</th>\n",
       "      <th>qw</th>\n",
       "      <th>qy</th>\n",
       "      <th>pitch</th>\n",
       "    </tr>\n",
       "  </thead>\n",
       "  <tbody>\n",
       "    <tr>\n",
       "      <th>count</th>\n",
       "      <td>1.560600e+04</td>\n",
       "      <td>1.560600e+04</td>\n",
       "      <td>15605.000000</td>\n",
       "      <td>15605.000000</td>\n",
       "      <td>15605.000000</td>\n",
       "      <td>1.0</td>\n",
       "      <td>1.00</td>\n",
       "      <td>1.0</td>\n",
       "      <td>1.0</td>\n",
       "      <td>1.0</td>\n",
       "      <td>1.0</td>\n",
       "      <td>1.0</td>\n",
       "      <td>1.0</td>\n",
       "      <td>1.0</td>\n",
       "    </tr>\n",
       "    <tr>\n",
       "      <th>mean</th>\n",
       "      <td>1.683269e+18</td>\n",
       "      <td>-6.919721e+02</td>\n",
       "      <td>0.051799</td>\n",
       "      <td>0.440262</td>\n",
       "      <td>0.023489</td>\n",
       "      <td>3.0</td>\n",
       "      <td>1.15</td>\n",
       "      <td>0.0</td>\n",
       "      <td>0.0</td>\n",
       "      <td>0.0</td>\n",
       "      <td>0.0</td>\n",
       "      <td>0.0</td>\n",
       "      <td>0.0</td>\n",
       "      <td>0.0</td>\n",
       "    </tr>\n",
       "    <tr>\n",
       "      <th>std</th>\n",
       "      <td>4.567039e+13</td>\n",
       "      <td>4.567039e+04</td>\n",
       "      <td>0.567014</td>\n",
       "      <td>1.009353</td>\n",
       "      <td>0.893979</td>\n",
       "      <td>NaN</td>\n",
       "      <td>NaN</td>\n",
       "      <td>NaN</td>\n",
       "      <td>NaN</td>\n",
       "      <td>NaN</td>\n",
       "      <td>NaN</td>\n",
       "      <td>NaN</td>\n",
       "      <td>NaN</td>\n",
       "      <td>NaN</td>\n",
       "    </tr>\n",
       "    <tr>\n",
       "      <th>min</th>\n",
       "      <td>1.680417e+18</td>\n",
       "      <td>-2.852898e+06</td>\n",
       "      <td>-5.566208</td>\n",
       "      <td>-5.664675</td>\n",
       "      <td>-4.368199</td>\n",
       "      <td>3.0</td>\n",
       "      <td>1.15</td>\n",
       "      <td>0.0</td>\n",
       "      <td>0.0</td>\n",
       "      <td>0.0</td>\n",
       "      <td>0.0</td>\n",
       "      <td>0.0</td>\n",
       "      <td>0.0</td>\n",
       "      <td>0.0</td>\n",
       "    </tr>\n",
       "    <tr>\n",
       "      <th>25%</th>\n",
       "      <td>1.683270e+18</td>\n",
       "      <td>1.962529e+01</td>\n",
       "      <td>-0.221366</td>\n",
       "      <td>-0.224200</td>\n",
       "      <td>-0.224045</td>\n",
       "      <td>3.0</td>\n",
       "      <td>1.15</td>\n",
       "      <td>0.0</td>\n",
       "      <td>0.0</td>\n",
       "      <td>0.0</td>\n",
       "      <td>0.0</td>\n",
       "      <td>0.0</td>\n",
       "      <td>0.0</td>\n",
       "      <td>0.0</td>\n",
       "    </tr>\n",
       "    <tr>\n",
       "      <th>50%</th>\n",
       "      <td>1.683270e+18</td>\n",
       "      <td>3.925919e+01</td>\n",
       "      <td>0.022858</td>\n",
       "      <td>0.793248</td>\n",
       "      <td>0.062439</td>\n",
       "      <td>3.0</td>\n",
       "      <td>1.15</td>\n",
       "      <td>0.0</td>\n",
       "      <td>0.0</td>\n",
       "      <td>0.0</td>\n",
       "      <td>0.0</td>\n",
       "      <td>0.0</td>\n",
       "      <td>0.0</td>\n",
       "      <td>0.0</td>\n",
       "    </tr>\n",
       "    <tr>\n",
       "      <th>75%</th>\n",
       "      <td>1.683270e+18</td>\n",
       "      <td>5.889272e+01</td>\n",
       "      <td>0.314255</td>\n",
       "      <td>1.077164</td>\n",
       "      <td>0.407181</td>\n",
       "      <td>3.0</td>\n",
       "      <td>1.15</td>\n",
       "      <td>0.0</td>\n",
       "      <td>0.0</td>\n",
       "      <td>0.0</td>\n",
       "      <td>0.0</td>\n",
       "      <td>0.0</td>\n",
       "      <td>0.0</td>\n",
       "      <td>0.0</td>\n",
       "    </tr>\n",
       "    <tr>\n",
       "      <th>max</th>\n",
       "      <td>1.683270e+18</td>\n",
       "      <td>7.852227e+01</td>\n",
       "      <td>4.551981</td>\n",
       "      <td>5.324697</td>\n",
       "      <td>4.855778</td>\n",
       "      <td>3.0</td>\n",
       "      <td>1.15</td>\n",
       "      <td>0.0</td>\n",
       "      <td>0.0</td>\n",
       "      <td>0.0</td>\n",
       "      <td>0.0</td>\n",
       "      <td>0.0</td>\n",
       "      <td>0.0</td>\n",
       "      <td>0.0</td>\n",
       "    </tr>\n",
       "  </tbody>\n",
       "</table>\n",
       "</div>"
      ],
      "text/plain": [
       "               time  seconds_elapsed             z             y  \\\n",
       "count  1.560600e+04     1.560600e+04  15605.000000  15605.000000   \n",
       "mean   1.683269e+18    -6.919721e+02      0.051799      0.440262   \n",
       "std    4.567039e+13     4.567039e+04      0.567014      1.009353   \n",
       "min    1.680417e+18    -2.852898e+06     -5.566208     -5.664675   \n",
       "25%    1.683270e+18     1.962529e+01     -0.221366     -0.224200   \n",
       "50%    1.683270e+18     3.925919e+01      0.022858      0.793248   \n",
       "75%    1.683270e+18     5.889272e+01      0.314255      1.077164   \n",
       "max    1.683270e+18     7.852227e+01      4.551981      5.324697   \n",
       "\n",
       "                  x  version  appVersion  yaw   qx   qz  roll   qw   qy  pitch  \n",
       "count  15605.000000      1.0        1.00  1.0  1.0  1.0   1.0  1.0  1.0    1.0  \n",
       "mean       0.023489      3.0        1.15  0.0  0.0  0.0   0.0  0.0  0.0    0.0  \n",
       "std        0.893979      NaN         NaN  NaN  NaN  NaN   NaN  NaN  NaN    NaN  \n",
       "min       -4.368199      3.0        1.15  0.0  0.0  0.0   0.0  0.0  0.0    0.0  \n",
       "25%       -0.224045      3.0        1.15  0.0  0.0  0.0   0.0  0.0  0.0    0.0  \n",
       "50%        0.062439      3.0        1.15  0.0  0.0  0.0   0.0  0.0  0.0    0.0  \n",
       "75%        0.407181      3.0        1.15  0.0  0.0  0.0   0.0  0.0  0.0    0.0  \n",
       "max        4.855778      3.0        1.15  0.0  0.0  0.0   0.0  0.0  0.0    0.0  "
      ]
     },
     "execution_count": 4,
     "metadata": {},
     "output_type": "execute_result"
    }
   ],
   "source": [
    "df_walk.describe()"
   ]
  },
  {
   "cell_type": "code",
   "execution_count": 5,
   "metadata": {},
   "outputs": [
    {
     "data": {
      "text/plain": [
       "Index(['sensor', 'time', 'seconds_elapsed', 'z', 'y', 'x', 'version',\n",
       "       'device name', 'recording time', 'platform', 'appVersion', 'device id',\n",
       "       'sensors', 'sampleRateMs', 'yaw', 'qx', 'qz', 'roll', 'qw', 'qy',\n",
       "       'pitch'],\n",
       "      dtype='object')"
      ]
     },
     "execution_count": 5,
     "metadata": {},
     "output_type": "execute_result"
    }
   ],
   "source": [
    "df_walk.columns"
   ]
  },
  {
   "cell_type": "code",
   "execution_count": 6,
   "metadata": {},
   "outputs": [
    {
     "data": {
      "text/html": [
       "<div>\n",
       "<style scoped>\n",
       "    .dataframe tbody tr th:only-of-type {\n",
       "        vertical-align: middle;\n",
       "    }\n",
       "\n",
       "    .dataframe tbody tr th {\n",
       "        vertical-align: top;\n",
       "    }\n",
       "\n",
       "    .dataframe thead th {\n",
       "        text-align: right;\n",
       "    }\n",
       "</style>\n",
       "<table border=\"1\" class=\"dataframe\">\n",
       "  <thead>\n",
       "    <tr style=\"text-align: right;\">\n",
       "      <th></th>\n",
       "      <th>sensor</th>\n",
       "      <th>time</th>\n",
       "      <th>seconds_elapsed</th>\n",
       "      <th>z</th>\n",
       "      <th>y</th>\n",
       "      <th>x</th>\n",
       "      <th>version</th>\n",
       "      <th>device name</th>\n",
       "      <th>recording time</th>\n",
       "      <th>platform</th>\n",
       "      <th>...</th>\n",
       "      <th>device id</th>\n",
       "      <th>sensors</th>\n",
       "      <th>sampleRateMs</th>\n",
       "      <th>yaw</th>\n",
       "      <th>qx</th>\n",
       "      <th>qz</th>\n",
       "      <th>roll</th>\n",
       "      <th>qw</th>\n",
       "      <th>qy</th>\n",
       "      <th>pitch</th>\n",
       "    </tr>\n",
       "  </thead>\n",
       "  <tbody>\n",
       "    <tr>\n",
       "      <th>0</th>\n",
       "      <td>Accelerometer</td>\n",
       "      <td>2023-04-02 06:30:19.905724160</td>\n",
       "      <td>-2.852898e+06</td>\n",
       "      <td>0.000000</td>\n",
       "      <td>0.000000</td>\n",
       "      <td>0.000000</td>\n",
       "      <td>NaN</td>\n",
       "      <td>NaN</td>\n",
       "      <td>NaN</td>\n",
       "      <td>NaN</td>\n",
       "      <td>...</td>\n",
       "      <td>NaN</td>\n",
       "      <td>NaN</td>\n",
       "      <td>NaN</td>\n",
       "      <td>NaN</td>\n",
       "      <td>NaN</td>\n",
       "      <td>NaN</td>\n",
       "      <td>NaN</td>\n",
       "      <td>NaN</td>\n",
       "      <td>NaN</td>\n",
       "      <td>NaN</td>\n",
       "    </tr>\n",
       "    <tr>\n",
       "      <th>1</th>\n",
       "      <td>AccelerometerUncalibrated</td>\n",
       "      <td>2023-05-05 06:58:38.144353792</td>\n",
       "      <td>1.635376e-02</td>\n",
       "      <td>-0.770004</td>\n",
       "      <td>-0.392059</td>\n",
       "      <td>0.095901</td>\n",
       "      <td>NaN</td>\n",
       "      <td>NaN</td>\n",
       "      <td>NaN</td>\n",
       "      <td>NaN</td>\n",
       "      <td>...</td>\n",
       "      <td>NaN</td>\n",
       "      <td>NaN</td>\n",
       "      <td>NaN</td>\n",
       "      <td>NaN</td>\n",
       "      <td>NaN</td>\n",
       "      <td>NaN</td>\n",
       "      <td>NaN</td>\n",
       "      <td>NaN</td>\n",
       "      <td>NaN</td>\n",
       "      <td>NaN</td>\n",
       "    </tr>\n",
       "    <tr>\n",
       "      <th>2</th>\n",
       "      <td>AccelerometerUncalibrated</td>\n",
       "      <td>2023-05-05 06:58:38.154418944</td>\n",
       "      <td>2.641895e-02</td>\n",
       "      <td>-0.801300</td>\n",
       "      <td>-0.401917</td>\n",
       "      <td>0.068222</td>\n",
       "      <td>NaN</td>\n",
       "      <td>NaN</td>\n",
       "      <td>NaN</td>\n",
       "      <td>NaN</td>\n",
       "      <td>...</td>\n",
       "      <td>NaN</td>\n",
       "      <td>NaN</td>\n",
       "      <td>NaN</td>\n",
       "      <td>NaN</td>\n",
       "      <td>NaN</td>\n",
       "      <td>NaN</td>\n",
       "      <td>NaN</td>\n",
       "      <td>NaN</td>\n",
       "      <td>NaN</td>\n",
       "      <td>NaN</td>\n",
       "    </tr>\n",
       "    <tr>\n",
       "      <th>3</th>\n",
       "      <td>AccelerometerUncalibrated</td>\n",
       "      <td>2023-05-05 06:58:38.164484096</td>\n",
       "      <td>3.648413e-02</td>\n",
       "      <td>-0.832657</td>\n",
       "      <td>-0.412109</td>\n",
       "      <td>0.057846</td>\n",
       "      <td>NaN</td>\n",
       "      <td>NaN</td>\n",
       "      <td>NaN</td>\n",
       "      <td>NaN</td>\n",
       "      <td>...</td>\n",
       "      <td>NaN</td>\n",
       "      <td>NaN</td>\n",
       "      <td>NaN</td>\n",
       "      <td>NaN</td>\n",
       "      <td>NaN</td>\n",
       "      <td>NaN</td>\n",
       "      <td>NaN</td>\n",
       "      <td>NaN</td>\n",
       "      <td>NaN</td>\n",
       "      <td>NaN</td>\n",
       "    </tr>\n",
       "    <tr>\n",
       "      <th>4</th>\n",
       "      <td>AccelerometerUncalibrated</td>\n",
       "      <td>2023-05-05 06:58:38.174548992</td>\n",
       "      <td>4.654907e-02</td>\n",
       "      <td>-0.863892</td>\n",
       "      <td>-0.420822</td>\n",
       "      <td>0.063507</td>\n",
       "      <td>NaN</td>\n",
       "      <td>NaN</td>\n",
       "      <td>NaN</td>\n",
       "      <td>NaN</td>\n",
       "      <td>...</td>\n",
       "      <td>NaN</td>\n",
       "      <td>NaN</td>\n",
       "      <td>NaN</td>\n",
       "      <td>NaN</td>\n",
       "      <td>NaN</td>\n",
       "      <td>NaN</td>\n",
       "      <td>NaN</td>\n",
       "      <td>NaN</td>\n",
       "      <td>NaN</td>\n",
       "      <td>NaN</td>\n",
       "    </tr>\n",
       "  </tbody>\n",
       "</table>\n",
       "<p>5 rows × 21 columns</p>\n",
       "</div>"
      ],
      "text/plain": [
       "                      sensor                          time  seconds_elapsed  \\\n",
       "0              Accelerometer 2023-04-02 06:30:19.905724160    -2.852898e+06   \n",
       "1  AccelerometerUncalibrated 2023-05-05 06:58:38.144353792     1.635376e-02   \n",
       "2  AccelerometerUncalibrated 2023-05-05 06:58:38.154418944     2.641895e-02   \n",
       "3  AccelerometerUncalibrated 2023-05-05 06:58:38.164484096     3.648413e-02   \n",
       "4  AccelerometerUncalibrated 2023-05-05 06:58:38.174548992     4.654907e-02   \n",
       "\n",
       "          z         y         x  version device name recording time platform  \\\n",
       "0  0.000000  0.000000  0.000000      NaN         NaN            NaN      NaN   \n",
       "1 -0.770004 -0.392059  0.095901      NaN         NaN            NaN      NaN   \n",
       "2 -0.801300 -0.401917  0.068222      NaN         NaN            NaN      NaN   \n",
       "3 -0.832657 -0.412109  0.057846      NaN         NaN            NaN      NaN   \n",
       "4 -0.863892 -0.420822  0.063507      NaN         NaN            NaN      NaN   \n",
       "\n",
       "   ...  device id sensors sampleRateMs yaw  qx  qz  roll  qw  qy  pitch  \n",
       "0  ...        NaN     NaN          NaN NaN NaN NaN   NaN NaN NaN    NaN  \n",
       "1  ...        NaN     NaN          NaN NaN NaN NaN   NaN NaN NaN    NaN  \n",
       "2  ...        NaN     NaN          NaN NaN NaN NaN   NaN NaN NaN    NaN  \n",
       "3  ...        NaN     NaN          NaN NaN NaN NaN   NaN NaN NaN    NaN  \n",
       "4  ...        NaN     NaN          NaN NaN NaN NaN   NaN NaN NaN    NaN  \n",
       "\n",
       "[5 rows x 21 columns]"
      ]
     },
     "execution_count": 6,
     "metadata": {},
     "output_type": "execute_result"
    }
   ],
   "source": [
    "#preprocessing data\n",
    "df_walk['time'] = pd.to_datetime(df_walk['time'])\n",
    "df_fall['time'] = pd.to_datetime(df_fall['time'])\n",
    "df_testFall['time'] = pd.to_datetime(df_testFall['time'])\n",
    "\n",
    "df_walk.head()"
   ]
  },
  {
   "cell_type": "code",
   "execution_count": 7,
   "metadata": {},
   "outputs": [],
   "source": [
    "df_walk = df_walk.set_index('time')\n",
    "df_fall = df_fall.set_index('time')\n",
    "df_testFall = df_testFall.set_index('time')"
   ]
  },
  {
   "cell_type": "code",
   "execution_count": 8,
   "metadata": {},
   "outputs": [
    {
     "data": {
      "text/plain": [
       "array(['Accelerometer', 'AccelerometerUncalibrated', 'Gravity',\n",
       "       'Gyroscope', 'GyroscopeUncalibrated', 'Metadata', 'Orientation'],\n",
       "      dtype=object)"
      ]
     },
     "execution_count": 8,
     "metadata": {},
     "output_type": "execute_result"
    }
   ],
   "source": [
    "df_walk['sensor'].unique()"
   ]
  },
  {
   "cell_type": "code",
   "execution_count": 9,
   "metadata": {},
   "outputs": [],
   "source": [
    "df_walk_acc = df_walk[df_walk['sensor'] == 'AccelerometerUncalibrated']\n",
    "df_fall_acc = df_fall[df_fall['sensor'] == 'AccelerometerUncalibrated']\n",
    "\n",
    "df_testFall_acc = df_testFall[df_testFall['sensor'] == 'AccelerometerUncalibrated']"
   ]
  },
  {
   "cell_type": "code",
   "execution_count": 10,
   "metadata": {},
   "outputs": [],
   "source": [
    "df_walk_acc = df_walk_acc[['z','x','y']]\n",
    "df_fall_acc = df_fall_acc[['z','x','y']]\n",
    "\n",
    "df_testFall_acc = df_testFall_acc[['z','x','y']]"
   ]
  },
  {
   "cell_type": "code",
   "execution_count": 11,
   "metadata": {},
   "outputs": [
    {
     "data": {
      "text/plain": [
       "<AxesSubplot:xlabel='time'>"
      ]
     },
     "execution_count": 11,
     "metadata": {},
     "output_type": "execute_result"
    },
    {
     "data": {
      "image/png": "[encoded data removed]",
      "text/plain": [
       "<Figure size 720x360 with 1 Axes>"
      ]
     },
     "metadata": {
      "needs_background": "light"
     },
     "output_type": "display_data"
    }
   ],
   "source": [
    "df_walk_acc.plot(figsize=(10,5))"
   ]
  },
  {
   "cell_type": "code",
   "execution_count": 12,
   "metadata": {},
   "outputs": [
    {
     "data": {
      "text/plain": [
       "<AxesSubplot:xlabel='time'>"
      ]
     },
     "execution_count": 12,
     "metadata": {},
     "output_type": "execute_result"
    },
    {
     "data": {
      "image/png": "[encoded data removed]",
      "text/plain": [
       "<Figure size 720x360 with 1 Axes>"
      ]
     },
     "metadata": {
      "needs_background": "light"
     },
     "output_type": "display_data"
    }
   ],
   "source": [
    "df_fall_acc.plot(figsize=(10,5))"
   ]
  },
  {
   "cell_type": "code",
   "execution_count": 13,
   "metadata": {},
   "outputs": [
    {
     "data": {
      "text/plain": [
       "<AxesSubplot:xlabel='time'>"
      ]
     },
     "execution_count": 13,
     "metadata": {},
     "output_type": "execute_result"
    },
    {
     "data": {
      "image/png": "[encoded data removed]",
      "text/plain": [
       "<Figure size 720x360 with 1 Axes>"
      ]
     },
     "metadata": {
      "needs_background": "light"
     },
     "output_type": "display_data"
    }
   ],
   "source": [
    "df_testFall_acc.plot(figsize=(10,5))"
   ]
  },
  {
   "attachments": {},
   "cell_type": "markdown",
   "metadata": {},
   "source": [
    "Create Training Data"
   ]
  },
  {
   "cell_type": "code",
   "execution_count": 14,
   "metadata": {},
   "outputs": [],
   "source": [
    "df_walk_acc['label'] = \"run\"\n",
    "df_fall_acc['label'] = \"fall\"\n",
    "\n",
    "df_testFall_acc['label'] = \"fall\"\n",
    "\n",
    "df_combined = pd.concat([df_walk_acc, df_fall_acc])"
   ]
  },
  {
   "cell_type": "code",
   "execution_count": 15,
   "metadata": {},
   "outputs": [
    {
     "data": {
      "text/html": [
       "<div>\n",
       "<style scoped>\n",
       "    .dataframe tbody tr th:only-of-type {\n",
       "        vertical-align: middle;\n",
       "    }\n",
       "\n",
       "    .dataframe tbody tr th {\n",
       "        vertical-align: top;\n",
       "    }\n",
       "\n",
       "    .dataframe thead th {\n",
       "        text-align: right;\n",
       "    }\n",
       "</style>\n",
       "<table border=\"1\" class=\"dataframe\">\n",
       "  <thead>\n",
       "    <tr style=\"text-align: right;\">\n",
       "      <th></th>\n",
       "      <th>z</th>\n",
       "      <th>x</th>\n",
       "      <th>y</th>\n",
       "      <th>label</th>\n",
       "    </tr>\n",
       "    <tr>\n",
       "      <th>time</th>\n",
       "      <th></th>\n",
       "      <th></th>\n",
       "      <th></th>\n",
       "      <th></th>\n",
       "    </tr>\n",
       "  </thead>\n",
       "  <tbody>\n",
       "    <tr>\n",
       "      <th>2023-05-05 06:58:38.144353792</th>\n",
       "      <td>-0.770004</td>\n",
       "      <td>0.095901</td>\n",
       "      <td>-0.392059</td>\n",
       "      <td>run</td>\n",
       "    </tr>\n",
       "    <tr>\n",
       "      <th>2023-05-05 06:58:38.154418944</th>\n",
       "      <td>-0.801300</td>\n",
       "      <td>0.068222</td>\n",
       "      <td>-0.401917</td>\n",
       "      <td>run</td>\n",
       "    </tr>\n",
       "    <tr>\n",
       "      <th>2023-05-05 06:58:38.164484096</th>\n",
       "      <td>-0.832657</td>\n",
       "      <td>0.057846</td>\n",
       "      <td>-0.412109</td>\n",
       "      <td>run</td>\n",
       "    </tr>\n",
       "    <tr>\n",
       "      <th>2023-05-05 06:58:38.174548992</th>\n",
       "      <td>-0.863892</td>\n",
       "      <td>0.063507</td>\n",
       "      <td>-0.420822</td>\n",
       "      <td>run</td>\n",
       "    </tr>\n",
       "    <tr>\n",
       "      <th>2023-05-05 06:58:38.184613888</th>\n",
       "      <td>-0.873398</td>\n",
       "      <td>0.073227</td>\n",
       "      <td>-0.429611</td>\n",
       "      <td>run</td>\n",
       "    </tr>\n",
       "    <tr>\n",
       "      <th>...</th>\n",
       "      <td>...</td>\n",
       "      <td>...</td>\n",
       "      <td>...</td>\n",
       "      <td>...</td>\n",
       "    </tr>\n",
       "    <tr>\n",
       "      <th>2023-05-05 07:00:36.956347136</th>\n",
       "      <td>-0.940689</td>\n",
       "      <td>0.155502</td>\n",
       "      <td>-0.105499</td>\n",
       "      <td>fall</td>\n",
       "    </tr>\n",
       "    <tr>\n",
       "      <th>2023-05-05 07:00:36.966411264</th>\n",
       "      <td>-0.969910</td>\n",
       "      <td>0.134750</td>\n",
       "      <td>-0.089905</td>\n",
       "      <td>fall</td>\n",
       "    </tr>\n",
       "    <tr>\n",
       "      <th>2023-05-05 07:00:36.976476416</th>\n",
       "      <td>-0.975662</td>\n",
       "      <td>0.134018</td>\n",
       "      <td>-0.077606</td>\n",
       "      <td>fall</td>\n",
       "    </tr>\n",
       "    <tr>\n",
       "      <th>2023-05-05 07:00:36.986540288</th>\n",
       "      <td>-0.956848</td>\n",
       "      <td>0.143326</td>\n",
       "      <td>-0.068573</td>\n",
       "      <td>fall</td>\n",
       "    </tr>\n",
       "    <tr>\n",
       "      <th>2023-05-05 07:00:36.996605440</th>\n",
       "      <td>-0.922028</td>\n",
       "      <td>0.148407</td>\n",
       "      <td>-0.074005</td>\n",
       "      <td>fall</td>\n",
       "    </tr>\n",
       "  </tbody>\n",
       "</table>\n",
       "<p>10902 rows × 4 columns</p>\n",
       "</div>"
      ],
      "text/plain": [
       "                                      z         x         y label\n",
       "time                                                             \n",
       "2023-05-05 06:58:38.144353792 -0.770004  0.095901 -0.392059   run\n",
       "2023-05-05 06:58:38.154418944 -0.801300  0.068222 -0.401917   run\n",
       "2023-05-05 06:58:38.164484096 -0.832657  0.057846 -0.412109   run\n",
       "2023-05-05 06:58:38.174548992 -0.863892  0.063507 -0.420822   run\n",
       "2023-05-05 06:58:38.184613888 -0.873398  0.073227 -0.429611   run\n",
       "...                                 ...       ...       ...   ...\n",
       "2023-05-05 07:00:36.956347136 -0.940689  0.155502 -0.105499  fall\n",
       "2023-05-05 07:00:36.966411264 -0.969910  0.134750 -0.089905  fall\n",
       "2023-05-05 07:00:36.976476416 -0.975662  0.134018 -0.077606  fall\n",
       "2023-05-05 07:00:36.986540288 -0.956848  0.143326 -0.068573  fall\n",
       "2023-05-05 07:00:36.996605440 -0.922028  0.148407 -0.074005  fall\n",
       "\n",
       "[10902 rows x 4 columns]"
      ]
     },
     "metadata": {},
     "output_type": "display_data"
    }
   ],
   "source": [
    "#Anzahl der Reihen RowCount\n",
    "len(df_walk_acc)\n",
    "#Label hinzufügen\n",
    "\n",
    "display(df_combined)"
   ]
  },
  {
   "cell_type": "code",
   "execution_count": 30,
   "metadata": {},
   "outputs": [
    {
     "name": "stdout",
     "output_type": "stream",
     "text": [
      "Accuracy: 1.0\n",
      "Accuracy: 1.0\n",
      "Accuracy: 1.0\n",
      "Accuracy: 0.29334067143643366\n",
      "Accuracy: 0.02531645569620253\n"
     ]
    }
   ],
   "source": [
    "tscv = TimeSeriesSplit(n_splits=5)\n",
    "for train_index, test_index in tscv.split(df_combined):\n",
    "    X_train, X_test = df_combined.iloc[train_index][['z','y','x']], df_combined.iloc[test_index][['z','y','x']]\n",
    "    y_train, y_test = df_combined.iloc[train_index][\"label\"], df_combined.iloc[test_index][\"label\"]\n",
    "\n",
    "    # Skalieren \n",
    "    scaler = StandardScaler()\n",
    "    X_train = scaler.fit_transform(X_train)\n",
    "    X_test = scaler.transform(X_test)\n",
    "\n",
    "    # Passe Klassifikator an\n",
    "    clf = RandomForestClassifier(random_state=0)\n",
    "    clf.fit(X_train, y_train)\n",
    "\n",
    "    # Evaluieren die Leistung des Klassifikators\n",
    "    y_pred = clf.predict(X_test)\n",
    "    #print(clf.predict(X_test))\n",
    "    accuracy = accuracy_score(y_test, y_pred)\n",
    "    print(f\"Accuracy: {accuracy}\")"
   ]
  },
  {
   "cell_type": "code",
   "execution_count": 22,
   "metadata": {},
   "outputs": [
    {
     "data": {
      "text/html": [
       "<div>\n",
       "<style scoped>\n",
       "    .dataframe tbody tr th:only-of-type {\n",
       "        vertical-align: middle;\n",
       "    }\n",
       "\n",
       "    .dataframe tbody tr th {\n",
       "        vertical-align: top;\n",
       "    }\n",
       "\n",
       "    .dataframe thead th {\n",
       "        text-align: right;\n",
       "    }\n",
       "</style>\n",
       "<table border=\"1\" class=\"dataframe\">\n",
       "  <thead>\n",
       "    <tr style=\"text-align: right;\">\n",
       "      <th></th>\n",
       "      <th>z</th>\n",
       "      <th>x</th>\n",
       "      <th>y</th>\n",
       "      <th>label</th>\n",
       "    </tr>\n",
       "    <tr>\n",
       "      <th>time</th>\n",
       "      <th></th>\n",
       "      <th></th>\n",
       "      <th></th>\n",
       "      <th></th>\n",
       "    </tr>\n",
       "  </thead>\n",
       "  <tbody>\n",
       "    <tr>\n",
       "      <th>2023-05-05 07:07:09.681482752</th>\n",
       "      <td>-1.156128</td>\n",
       "      <td>0.280060</td>\n",
       "      <td>-0.049332</td>\n",
       "      <td>fall</td>\n",
       "    </tr>\n",
       "    <tr>\n",
       "      <th>2023-05-05 07:07:09.691546880</th>\n",
       "      <td>-1.181564</td>\n",
       "      <td>0.249557</td>\n",
       "      <td>-0.037933</td>\n",
       "      <td>fall</td>\n",
       "    </tr>\n",
       "    <tr>\n",
       "      <th>2023-05-05 07:07:09.701610752</th>\n",
       "      <td>-1.159286</td>\n",
       "      <td>0.184860</td>\n",
       "      <td>-0.051285</td>\n",
       "      <td>fall</td>\n",
       "    </tr>\n",
       "    <tr>\n",
       "      <th>2023-05-05 07:07:09.711674880</th>\n",
       "      <td>-1.104019</td>\n",
       "      <td>0.131989</td>\n",
       "      <td>-0.072357</td>\n",
       "      <td>fall</td>\n",
       "    </tr>\n",
       "    <tr>\n",
       "      <th>2023-05-05 07:07:09.721737984</th>\n",
       "      <td>-1.056854</td>\n",
       "      <td>0.102814</td>\n",
       "      <td>-0.069427</td>\n",
       "      <td>fall</td>\n",
       "    </tr>\n",
       "  </tbody>\n",
       "</table>\n",
       "</div>"
      ],
      "text/plain": [
       "                                      z         x         y label\n",
       "time                                                             \n",
       "2023-05-05 07:07:09.681482752 -1.156128  0.280060 -0.049332  fall\n",
       "2023-05-05 07:07:09.691546880 -1.181564  0.249557 -0.037933  fall\n",
       "2023-05-05 07:07:09.701610752 -1.159286  0.184860 -0.051285  fall\n",
       "2023-05-05 07:07:09.711674880 -1.104019  0.131989 -0.072357  fall\n",
       "2023-05-05 07:07:09.721737984 -1.056854  0.102814 -0.069427  fall"
      ]
     },
     "execution_count": 22,
     "metadata": {},
     "output_type": "execute_result"
    }
   ],
   "source": [
    "df_testFall_acc.head()"
   ]
  },
  {
   "cell_type": "code",
   "execution_count": 23,
   "metadata": {},
   "outputs": [
    {
     "data": {
      "text/html": [
       "<div>\n",
       "<style scoped>\n",
       "    .dataframe tbody tr th:only-of-type {\n",
       "        vertical-align: middle;\n",
       "    }\n",
       "\n",
       "    .dataframe tbody tr th {\n",
       "        vertical-align: top;\n",
       "    }\n",
       "\n",
       "    .dataframe thead th {\n",
       "        text-align: right;\n",
       "    }\n",
       "</style>\n",
       "<table border=\"1\" class=\"dataframe\">\n",
       "  <thead>\n",
       "    <tr style=\"text-align: right;\">\n",
       "      <th></th>\n",
       "      <th>z</th>\n",
       "      <th>x</th>\n",
       "      <th>y</th>\n",
       "    </tr>\n",
       "  </thead>\n",
       "  <tbody>\n",
       "    <tr>\n",
       "      <th>count</th>\n",
       "      <td>1501.000000</td>\n",
       "      <td>1501.000000</td>\n",
       "      <td>1501.000000</td>\n",
       "    </tr>\n",
       "    <tr>\n",
       "      <th>mean</th>\n",
       "      <td>-0.150339</td>\n",
       "      <td>0.137636</td>\n",
       "      <td>0.738855</td>\n",
       "    </tr>\n",
       "    <tr>\n",
       "      <th>std</th>\n",
       "      <td>0.496869</td>\n",
       "      <td>0.414868</td>\n",
       "      <td>0.498444</td>\n",
       "    </tr>\n",
       "    <tr>\n",
       "      <th>min</th>\n",
       "      <td>-1.537582</td>\n",
       "      <td>-1.123581</td>\n",
       "      <td>-0.813660</td>\n",
       "    </tr>\n",
       "    <tr>\n",
       "      <th>25%</th>\n",
       "      <td>-0.392334</td>\n",
       "      <td>-0.113159</td>\n",
       "      <td>0.532272</td>\n",
       "    </tr>\n",
       "    <tr>\n",
       "      <th>50%</th>\n",
       "      <td>-0.101776</td>\n",
       "      <td>0.188156</td>\n",
       "      <td>0.845291</td>\n",
       "    </tr>\n",
       "    <tr>\n",
       "      <th>75%</th>\n",
       "      <td>0.166306</td>\n",
       "      <td>0.404861</td>\n",
       "      <td>0.998993</td>\n",
       "    </tr>\n",
       "    <tr>\n",
       "      <th>max</th>\n",
       "      <td>1.614059</td>\n",
       "      <td>1.538834</td>\n",
       "      <td>4.314255</td>\n",
       "    </tr>\n",
       "  </tbody>\n",
       "</table>\n",
       "</div>"
      ],
      "text/plain": [
       "                 z            x            y\n",
       "count  1501.000000  1501.000000  1501.000000\n",
       "mean     -0.150339     0.137636     0.738855\n",
       "std       0.496869     0.414868     0.498444\n",
       "min      -1.537582    -1.123581    -0.813660\n",
       "25%      -0.392334    -0.113159     0.532272\n",
       "50%      -0.101776     0.188156     0.845291\n",
       "75%       0.166306     0.404861     0.998993\n",
       "max       1.614059     1.538834     4.314255"
      ]
     },
     "execution_count": 23,
     "metadata": {},
     "output_type": "execute_result"
    }
   ],
   "source": [
    "df_testFall_acc.describe()"
   ]
  },
  {
   "cell_type": "code",
   "execution_count": 29,
   "metadata": {},
   "outputs": [
    {
     "name": "stdout",
     "output_type": "stream",
     "text": [
      "[[  46 1771]\n",
      " [   0    0]]\n"
     ]
    }
   ],
   "source": [
    "#Test via Konfusionsmatrix\n",
    "y_pred = clf.predict(X_test)\n",
    "accuracy = sk.metrics.confusion_matrix(y_test, y_pred)\n",
    "print(accuracy)"
   ]
  },
  {
   "attachments": {},
   "cell_type": "markdown",
   "metadata": {},
   "source": [
    "Alternative Herangehensweise an die Erstellung von TestDaten: \n",
    "######################### Siehe Übung ######################### Code auf unser Beispiel anzupassen"
   ]
  },
  {
   "cell_type": "code",
   "execution_count": null,
   "metadata": {},
   "outputs": [],
   "source": [
    "import random\n",
    "\n",
    "walk = df_walk_acc.values\n",
    "jump = df_jump_acc.values\n",
    "\n",
    "training_data = []\n",
    "label_data = []\n",
    "\n",
    "for x in range(20):\n",
    "    start = random.randint(0, len(walk)-31)\n",
    "    end = start + 30\n",
    "    training_data.append(walk[start:end].flatten())\n",
    "    label_data.append(\"walk\")\n",
    "    \n",
    "    \n",
    "for x in range(20):\n",
    "    start = random.randint(0, len(jump)-31)\n",
    "    end = start + 30\n",
    "    training_data.append(jump[start:end].flatten())\n",
    "    label_data.append(\"jump\")"
   ]
  },
  {
   "attachments": {},
   "cell_type": "markdown",
   "metadata": {},
   "source": [
    "# Train\n",
    "clf = RandomForestClassifier(random_state=0)\n",
    "clf.fit(training_data, label_data)"
   ]
  },
  {
   "cell_type": "code",
   "execution_count": null,
   "metadata": {},
   "outputs": [],
   "source": [
    "# FOR EDUCATIONAL PURPOSES ONLY: NEVER EVER USE TRAINING DATA FOR TESTING\n",
    "\n",
    "i = random.randint(0, len(training_data)-1)\n",
    "test = training_data[i]\n",
    "print(label_data[i])\n",
    "\n",
    "clf.predict([test])\n"
   ]
  },
  {
   "cell_type": "code",
   "execution_count": null,
   "metadata": {},
   "outputs": [],
   "source": [
    "# FOR EDUCATIONAL PURPOSES ONLY: NEVER EVER USE TRAINING DATA FOR TESTING\n",
    "\n",
    "for x in range(100):\n",
    "    i = random.randint(0, len(training_data)-1)\n",
    "    test = training_data[i]\n",
    "    label = label_data[i]\n",
    "    prediction = clf.predict([test])[0]\n",
    "    \n",
    "    if label != prediction:\n",
    "        print(f\"Label: {label}, Prediction: {prediction}\")\n"
   ]
  }
 ],
 "metadata": {
  "kernelspec": {
   "display_name": "Python 3",
   "language": "python",
   "name": "python3"
  },
  "language_info": {
   "codemirror_mode": {
    "name": "ipython",
    "version": 3
   },
   "file_extension": ".py",
   "mimetype": "text/x-python",
   "name": "python",
   "nbconvert_exporter": "python",
   "pygments_lexer": "ipython3",
   "version": "3.9.2"
  },
  "orig_nbformat": 4,
  "vscode": {
   "interpreter": {
    "hash": "916dbcbb3f70747c44a77c7bcd40155683ae19c65e1c03b4aa3499c5328201f1"
   }
  }
 },
 "nbformat": 4,
 "nbformat_minor": 2
}
